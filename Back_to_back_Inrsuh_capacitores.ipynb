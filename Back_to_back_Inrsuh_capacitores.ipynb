{
  "nbformat": 4,
  "nbformat_minor": 0,
  "metadata": {
    "colab": {
      "provenance": [],
      "authorship_tag": "ABX9TyMRP+6nSeMOWgtT3pi8BwTt",
      "include_colab_link": true
    },
    "kernelspec": {
      "name": "python3",
      "display_name": "Python 3"
    },
    "language_info": {
      "name": "python"
    }
  },
  "cells": [
    {
      "cell_type": "markdown",
      "metadata": {
        "id": "view-in-github",
        "colab_type": "text"
      },
      "source": [
        "<a href=\"https://colab.research.google.com/github/angelohafner/Python/blob/main/Back_to_back_Inrsuh_capacitores.ipynb\" target=\"_parent\"><img src=\"https://colab.research.google.com/assets/colab-badge.svg\" alt=\"Open In Colab\"/></a>"
      ]
    },
    {
      "cell_type": "markdown",
      "source": [
        "# Cálculo da Corrente Back-to-Back em Bancos de Capacitores\n",
        "\n",
        "## Introdução\n",
        "\n",
        "O cálculo de corrente back-to-back em bancos de capacitores é uma parte importante do projeto e análise de sistemas de energia elétrica. Este cálculo é essencial para garantir a operação segura e eficiente de bancos de capacitores, especialmente em aplicações de correção de fator de potência e filtragem de harmônicas.\n",
        "\n",
        "## O que é Corrente Back-to-Back?\n",
        "\n",
        "A corrente back-to-back refere-se à corrente que flui entre dois bancos de capacitores quando estão conectados em paralelo e comutados simultaneamente. Este tipo de configuração é comum em sistemas de energia para melhorar a eficiência e a qualidade da energia.\n",
        "\n"
      ],
      "metadata": {
        "id": "oTfzBCsOzswl"
      }
    },
    {
      "cell_type": "code",
      "execution_count": 108,
      "metadata": {
        "id": "-G9lUW6h4_Zc"
      },
      "outputs": [],
      "source": [
        "import sympy as sp\n",
        "import numpy as np\n",
        "import plotly.graph_objects as go"
      ]
    },
    {
      "cell_type": "code",
      "source": [
        "s, t = sp.symbols(\"s t\")\n",
        "L, C, R, V = sp.symbols(\"L C R V\", real=True, positive=True)"
      ],
      "metadata": {
        "id": "ihaJSTXm5KEh"
      },
      "execution_count": 109,
      "outputs": []
    },
    {
      "cell_type": "code",
      "source": [
        "E = sp.sqrt(2) * V / s\n",
        "Z = R + s*L + 1/(s*C)\n",
        "I = E / Z\n",
        "I_standard_form = I.apart(s)\n",
        "I_standard_form"
      ],
      "metadata": {
        "colab": {
          "base_uri": "https://localhost:8080/",
          "height": 57
        },
        "id": "EgNpuGtj5KBh",
        "outputId": "15e5f8b5-12a6-4099-9a73-d1bcb2db083c"
      },
      "execution_count": 110,
      "outputs": [
        {
          "output_type": "execute_result",
          "data": {
            "text/plain": [
              "sqrt(2)*C*V/(C*L*s**2 + C*R*s + 1)"
            ],
            "text/latex": "$\\displaystyle \\frac{\\sqrt{2} C V}{C L s^{2} + C R s + 1}$"
          },
          "metadata": {},
          "execution_count": 110
        }
      ]
    },
    {
      "cell_type": "code",
      "source": [
        "# Calculando os polos e zeros\n",
        "polos = sp.roots(sp.denom(I_standard_form), s)\n",
        "zeros = sp.roots(sp.numer(I_standard_form), s)\n",
        "polos"
      ],
      "metadata": {
        "colab": {
          "base_uri": "https://localhost:8080/"
        },
        "id": "V9SyCJZ5oz6h",
        "outputId": "a3953eaf-53b5-445f-9ca5-6ffa3b33f0fe"
      },
      "execution_count": 111,
      "outputs": [
        {
          "output_type": "execute_result",
          "data": {
            "text/plain": [
              "{-R/(2*L) - sqrt(C*R**2 - 4*L)/(2*sqrt(C)*L): 1,\n",
              " -R/(2*L) + sqrt(C*R**2 - 4*L)/(2*sqrt(C)*L): 1}"
            ]
          },
          "metadata": {},
          "execution_count": 111
        }
      ]
    },
    {
      "cell_type": "markdown",
      "source": [
        "Em Python, a expressão:\n",
        "\n",
        "```python\n",
        "{-R/(2*L) - sqrt(C*R**2 - 4*L)/(2*sqrt(C)*L): 1,\n",
        " -R/(2*L) + sqrt(C*R**2 - 4*L)/(2*sqrt(C)*L): 1}\n",
        "```\n",
        "\n",
        "representa um dicionário, onde:\n",
        "\n",
        "- As **chaves** do dicionário são os valores dos polos da função de transferência.\n",
        "- Os **valores** associados a cada chave representam a multiplicidade de cada polo.\n",
        "\n",
        "Neste contexto específico:\n",
        "\n",
        "1. **Chaves do Dicionário (Polos)**:\n",
        "   - `-R/(2*L) - sqrt(C*R**2 - 4*L)/(2*sqrt(C)*L)`: Este é um polo da função de transferência. Ele é calculado com base nos parâmetros \\( R \\), \\( L \\) e \\( C \\). A expressão inclui uma raiz quadrada e representa uma das soluções da equação característica do denominador da função de transferência.\n",
        "   - `-R/(2*L) + sqrt(C*R**2 - 4*L)/(2*sqrt(C)*L)`: Este é o outro polo da função de transferência, também dependente dos parâmetros \\( R \\), \\( L \\) e \\( C \\). Ele é semelhante ao primeiro polo, mas com um sinal oposto na parte da raiz quadrada.\n",
        "\n",
        "2. **Valores do Dicionário (Multiplicidade dos Polos)**:\n",
        "   - Ambos os polos têm um valor associado de `1`, indicando que cada um deles tem uma multiplicidade de 1. Isso significa que cada polo aparece uma única vez na função de transferência.\n",
        "\n",
        "Resumindo, este dicionário está descrevendo os polos da função de transferência e a multiplicidade de cada um desses polos. Em termos de análise de sistemas de controle ou processamento de sinais, esses polos são críticos para entender a estabilidade e o comportamento do sistema descrito pela função de transferência.\n"
      ],
      "metadata": {
        "id": "xqx2pL0P1dqc"
      }
    },
    {
      "cell_type": "code",
      "source": [
        "i = sp.inverse_laplace_transform(I, s, t)\n",
        "i.simplify()"
      ],
      "metadata": {
        "colab": {
          "base_uri": "https://localhost:8080/",
          "height": 70
        },
        "id": "81hOyUSz5J-6",
        "outputId": "d9c691fb-8601-4a5a-f757-66012cd70f0f"
      },
      "execution_count": 112,
      "outputs": [
        {
          "output_type": "execute_result",
          "data": {
            "text/plain": [
              "2*sqrt(2)*sqrt(C)*V*exp(-R*t/(2*L))*sin(t*sqrt(-C*R**2 + 4*L)/(2*sqrt(C)*L))*Heaviside(t)/sqrt(-C*R**2 + 4*L)"
            ],
            "text/latex": "$\\displaystyle \\frac{2 \\sqrt{2} \\sqrt{C} V e^{- \\frac{R t}{2 L}} \\sin{\\left(\\frac{t \\sqrt{- C R^{2} + 4 L}}{2 \\sqrt{C} L} \\right)} \\theta\\left(t\\right)}{\\sqrt{- C R^{2} + 4 L}}$"
          },
          "metadata": {},
          "execution_count": 112
        }
      ]
    },
    {
      "cell_type": "markdown",
      "source": [
        "## Começa a parte numérica"
      ],
      "metadata": {
        "id": "tjHNO4z3tYsM"
      }
    },
    {
      "cell_type": "markdown",
      "source": [
        "Expressão simbólica da corrente $i(t)$ contervida em uma função numpy `i_numerica`"
      ],
      "metadata": {
        "id": "foqQlIMjtkZu"
      }
    },
    {
      "cell_type": "code",
      "source": [
        "i_numerica = sp.lambdify((t, L, C, R, V), i, 'numpy')"
      ],
      "metadata": {
        "id": "mbIoNny7tCS-"
      },
      "execution_count": 113,
      "outputs": []
    },
    {
      "cell_type": "code",
      "source": [
        "# fator de segurança\n",
        "FC = 1.0\n",
        "# quantidade de bancos em paralelo\n",
        "nr_bancos = 5\n",
        "# tensão fase-fase\n",
        "V_ff = 23.1e3\n",
        "# tensão fase neutro\n",
        "V_fn = V_ff / np.sqrt(3)\n",
        "# frequência fundamental\n",
        "f_fund = 60\n",
        "w_fund = 2*np.pi*f_fund\n",
        "# potência trifásica do banco\n",
        "Q_3f = 30e6 * np.ones(nr_bancos, dtype=float)\n",
        "Q_1f = Q_3f / 3\n",
        "# corrente de fase dos estágios do banco em Y\n",
        "I_fn =  Q_1f / V_fn\n",
        "formatted_I_fn = \", \".join(f\"{item:.1f}\" for item in I_fn)\n",
        "print(f\"Corrente de fase dos estágios do banco em Y = [{formatted_I_fn}] A\")"
      ],
      "metadata": {
        "id": "u5th0ZmdF-X7",
        "colab": {
          "base_uri": "https://localhost:8080/"
        },
        "outputId": "b66f6a55-46db-4692-da51-b02037069eb1"
      },
      "execution_count": 114,
      "outputs": [
        {
          "output_type": "stream",
          "name": "stdout",
          "text": [
            "Corrente de fase dos estágios do banco em Y = [749.8, 749.8, 749.8, 749.8, 749.8] A\n"
          ]
        }
      ]
    },
    {
      "cell_type": "code",
      "source": [
        "# reatância e capacitância dos estágios\n",
        "X = V_fn / I_fn\n",
        "C = 1 / ( w_fund * X )\n",
        "formatted_C = \", \".join(f\"{item:.1f}\" for item in C*1e6)\n",
        "print(f\"Corrente de fase dos estágios do banco em Y = [{formatted_C}] uF\")"
      ],
      "metadata": {
        "colab": {
          "base_uri": "https://localhost:8080/"
        },
        "id": "jY-cnIsnukK7",
        "outputId": "3007e4f9-105d-45d1-d517-273b5c934380"
      },
      "execution_count": 115,
      "outputs": [
        {
          "output_type": "stream",
          "name": "stdout",
          "text": [
            "Corrente de fase dos estágios do banco em Y = [149.1, 149.1, 149.1, 149.1, 149.1] uF\n"
          ]
        }
      ]
    },
    {
      "cell_type": "code",
      "source": [
        "# Henries por metro da barra\n",
        "L_unit_barra = 0.0329e-6 * np.ones(nr_bancos, dtype=float)\n",
        "# Henries por metro do cabo\n",
        "L_unit_cabo  = 0.396e-6  * np.zeros(nr_bancos, dtype=float)\n",
        "\n",
        "# comprimento da barra\n",
        "comp_barra = 30.0 * np.zeros(nr_bancos, dtype=float)\n",
        "# comprimento do cabo\n",
        "comp_cabo  = 20.0 * np.ones(nr_bancos, dtype=float)\n",
        "\n",
        "# indutância série da barra e do cabo\n",
        "L_barra_mais_cabo = comp_barra * L_unit_barra + comp_cabo * L_unit_cabo"
      ],
      "metadata": {
        "id": "w104WN2jvn6a"
      },
      "execution_count": 116,
      "outputs": []
    },
    {
      "cell_type": "code",
      "source": [
        "# alguns capacitores tem uma pequena indutância em série de fábrica\n",
        "L_capacitor = 5e-6 * np.ones(nr_bancos, dtype=float)\n",
        "# indutor a ser colocado em série com o estágio capacitivo\n",
        "L_reator = 200e-6 *np.ones(nr_bancos, dtype=float)"
      ],
      "metadata": {
        "id": "P36wTIXzvtro"
      },
      "execution_count": 117,
      "outputs": []
    },
    {
      "cell_type": "code",
      "source": [
        "# indutância total entre dois estágios de capacitor\n",
        "L = L_barra_mais_cabo + L_capacitor + L_reator\n",
        "print(f\"Indutância total entre dois estágios de capacitor = {1e6*L} uH\")"
      ],
      "metadata": {
        "colab": {
          "base_uri": "https://localhost:8080/"
        },
        "id": "tmoKmOTtvxJy",
        "outputId": "62468b34-f478-44f8-86ab-aa9df1a134c8"
      },
      "execution_count": 118,
      "outputs": [
        {
          "output_type": "stream",
          "name": "stdout",
          "text": [
            "Indutância total entre dois estágios de capacitor = [205. 205. 205. 205. 205.] uH\n"
          ]
        }
      ]
    },
    {
      "cell_type": "code",
      "source": [
        "from IPython.core.display import Latex\n",
        "# imagiando todos os \"n-1\" capacitores ligados e entrando o capacitor \"0\"\n",
        "# capacitância combinada dos \"n-1\" capacitores ligados\n",
        "C_paralelos = np.sum(C[1:])\n",
        "# associando estes \"n-1\" em série com o capacitor a ser acionado\n",
        "den_C = 1/C[0] + 1/C_paralelos\n",
        "C_eq = 1/den_C\n",
        "\n",
        "# indutância combinada dos \"n-1\" capacitores ligados\n",
        "L_paralelos =  1 / np.sum( 1 / L[1:] )\n",
        "# associando estes \"n-1\" em série com a indutância do capacitor a ser acionado\n",
        "L_eq = L[0] + L_paralelos\n",
        "# resistência imaginada do sistema\n",
        "R_eq = 0.1\n",
        "\n",
        "print(f\"Capacitância dos 'n-1' capacitores em paralelo = {1e6*C_paralelos:.1f} uF\")\n",
        "print(f\"Capacitância do capacitor a ser acionado       = {1e6*C[0]:.1f} uF\")\n",
        "print(f\"Capacitância C[1:] série com C[0]              = {1e6*C_eq:.1f} uF\")\n",
        "print(\"\")\n",
        "print(f\"Indutância combinada dos 'n-1' capacitores ligados = {1e6*L_paralelos:.1f} uH\")\n",
        "print(f\"Indutância do capacitor a ser acionado             = {1e6*L[0]:.1f} uH\")\n",
        "print(f\"Indutância L[1:] série com L[0]                    = {1e6*L_eq:.1f} uH\")"
      ],
      "metadata": {
        "colab": {
          "base_uri": "https://localhost:8080/"
        },
        "id": "vcwGQ1p5v5i6",
        "outputId": "abff53fe-b6cd-454b-c9c5-2d7c5cba3399"
      },
      "execution_count": 119,
      "outputs": [
        {
          "output_type": "stream",
          "name": "stdout",
          "text": [
            "Capacitância dos 'n-1' capacitores em paralelo = 596.5 uF\n",
            "Capacitância do capacitor a ser acionado       = 149.1 uF\n",
            "Capacitância C[1:] série com C[0]              = 119.3 uF\n",
            "\n",
            "Indutância combinada dos 'n-1' capacitores ligados = 51.3 uH\n",
            "Indutância do capacitor a ser acionado             = 205.0 uH\n",
            "Indutância L[1:] série com L[0]                    = 256.2 uH\n"
          ]
        }
      ]
    },
    {
      "cell_type": "code",
      "source": [
        "t_num = np.linspace(0, 2/60, 2*(2**12) )\n",
        "i_inrush = i_numerica(t_num, L_eq, C_eq, R_eq, 23.1e3/np.sqrt(3))"
      ],
      "metadata": {
        "id": "5WWGRbkewJxA"
      },
      "execution_count": 120,
      "outputs": []
    },
    {
      "cell_type": "code",
      "source": [
        "fig, ax = plt.subplots(figsize=(6,3))\n",
        "ax.plot(1e3*t_num, i_inrush/(np.sqrt(2)*np.min(I_fn)))\n",
        "ax.grid(ls=\":\", alpha=0.5)\n",
        "ax.set_ylabel(r'$\\dfrac{I_{inrush}}{I_{C.min}}$')\n",
        "ax.set_xlabel(r'Tempo [ms]')\n",
        "fig.show()"
      ],
      "metadata": {
        "colab": {
          "base_uri": "https://localhost:8080/",
          "height": 311
        },
        "id": "0F1UD8SBwrmA",
        "outputId": "2505f907-2964-49ed-d4f6-ef9426f57248"
      },
      "execution_count": 121,
      "outputs": [
        {
          "output_type": "display_data",
          "data": {
            "text/plain": [
              "<Figure size 600x300 with 1 Axes>"
            ],
            "image/png": "[encoded data removed]"
          },
          "metadata": {}
        }
      ]
    }
  ]
}