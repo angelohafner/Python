{
  "nbformat": 4,
  "nbformat_minor": 0,
  "metadata": {
    "colab": {
      "provenance": [],
      "authorship_tag": "ABX9TyNFKVLDQ6NApINZlfvRi0SX",
      "include_colab_link": true
    },
    "kernelspec": {
      "name": "python3",
      "display_name": "Python 3"
    },
    "language_info": {
      "name": "python"
    }
  },
  "cells": [
    {
      "cell_type": "markdown",
      "metadata": {
        "id": "view-in-github",
        "colab_type": "text"
      },
      "source": [
        "<a href=\"https://colab.research.google.com/github/angelohafner/Python/blob/main/Distribuicao_das_Capacitancias.ipynb\" target=\"_parent\"><img src=\"https://colab.research.google.com/assets/colab-badge.svg\" alt=\"Open In Colab\"/></a>"
      ]
    },
    {
      "cell_type": "code",
      "execution_count": 5,
      "metadata": {
        "colab": {
          "base_uri": "https://localhost:8080/"
        },
        "id": "GObmP3s_19Hi",
        "outputId": "73779db7-94ce-43ec-bad1-7adcdd74b4a7"
      },
      "outputs": [
        {
          "output_type": "stream",
          "name": "stdout",
          "text": [
            "Capacitâncias equivalentes antes da otimização:\n",
            "2.06e-05 F\n",
            "1.98e-05 F\n",
            "2.01e-05 F\n",
            "2.05e-05 F\n",
            "2.06e-05 F\n",
            "2.00e-05 F\n",
            "\n",
            "Capacitâncias equivalentes após a otimização:\n",
            "2.02e-05 F\n",
            "2.03e-05 F\n",
            "2.04e-05 F\n",
            "2.03e-05 F\n",
            "2.01e-05 F\n",
            "2.01e-05 F\n"
          ]
        }
      ],
      "source": [
        "import numpy as np\n",
        "import random\n",
        "from google.colab import files\n",
        "import pandas as pd\n",
        "from openpyxl import Workbook\n",
        "from openpyxl.utils.dataframe import dataframe_to_rows\n",
        "\n",
        "def calcular_capacitancia_equivalente(matriz):\n",
        "    soma_paralelo = np.sum(matriz, axis=0)\n",
        "    inverso_serie = np.sum(1.0 / soma_paralelo)\n",
        "    return 1.0 / inverso_serie\n",
        "\n",
        "def trocar_capacitancias(matrizes):\n",
        "    idx1, idx2 = random.sample(range(len(matrizes)), 2)\n",
        "    pos1 = (random.randrange(n_lin), random.randrange(n_col))\n",
        "    pos2 = (random.randrange(n_lin), random.randrange(n_col))\n",
        "    matrizes[idx1][pos1], matrizes[idx2][pos2] = matrizes[idx2][pos2], matrizes[idx1][pos1]\n",
        "\n",
        "def diferenca_total_capacitancias(capacitancias):\n",
        "    return np.ptp(capacitancias)\n",
        "\n",
        "# Parâmetros da matriz de capacitores\n",
        "n_col = 4\n",
        "n_lin = 4\n",
        "\n",
        "# Número total de capacitâncias\n",
        "num_capacitancias = 2 * 3 * n_col * n_lin\n",
        "\n",
        "# Gerar capacitâncias aleatórias\n",
        "capacitancias = np.random.uniform(15e-6, 25e-6, num_capacitancias)\n",
        "\n",
        "# Criar as matrizes de capacitores\n",
        "capacitancias_por_matriz = n_col * n_lin\n",
        "matrizes = []\n",
        "for i in range(0, num_capacitancias, capacitancias_por_matriz):\n",
        "    matriz = capacitancias[i:i + capacitancias_por_matriz].reshape(n_lin, n_col)\n",
        "    matrizes.append(matriz)\n",
        "\n",
        "# Calculando as capacitâncias equivalentes iniciais\n",
        "capacitancias_equivalentes_iniciais = []\n",
        "for matriz in matrizes:\n",
        "    cap_equiv = calcular_capacitancia_equivalente(matriz)\n",
        "    capacitancias_equivalentes_iniciais.append(cap_equiv)\n",
        "\n",
        "matrizes_originais = matrizes\n",
        "# Parâmetros iniciais da otimização\n",
        "n_iteracoes = 10000\n",
        "menor_diferenca = float('inf')\n",
        "melhor_configuracao = None\n",
        "\n",
        "# Loop de otimização\n",
        "for _ in range(n_iteracoes):\n",
        "    trocar_capacitancias(matrizes)\n",
        "    capacitancias_equivalentes_atualizadas = []\n",
        "    for matriz in matrizes:\n",
        "        cap_equiv = calcular_capacitancia_equivalente(matriz)\n",
        "        capacitancias_equivalentes_atualizadas.append(cap_equiv)\n",
        "\n",
        "    diferenca_atual = diferenca_total_capacitancias(capacitancias_equivalentes_atualizadas)\n",
        "    if diferenca_atual < menor_diferenca:\n",
        "        menor_diferenca = diferenca_atual\n",
        "        melhor_configuracao = [np.copy(matriz) for matriz in matrizes]\n",
        "\n",
        "# Restaurando as matrizes para a melhor configuração encontrada\n",
        "matrizes = melhor_configuracao\n",
        "capacitancias_equivalentes = []\n",
        "for matriz in matrizes:\n",
        "    cap_equiv = calcular_capacitancia_equivalente(matriz)\n",
        "    capacitancias_equivalentes.append(cap_equiv)\n",
        "\n",
        "# Exibindo os resultados\n",
        "print(\"Capacitâncias equivalentes antes da otimização:\")\n",
        "for cap_equiv in capacitancias_equivalentes_iniciais:\n",
        "    print(f\"{cap_equiv:.2e} F\")\n",
        "\n",
        "print(\"\\nCapacitâncias equivalentes após a otimização:\")\n",
        "for cap_equiv in capacitancias_equivalentes:\n",
        "    print(f\"{cap_equiv:.2e} F\")\n"
      ]
    },
    {
      "cell_type": "code",
      "source": [
        "\n",
        "\n",
        "# Transformando as matrizes em DataFrames\n",
        "dataframes_iniciais = [pd.DataFrame(matriz) for matriz in matrizes_originais]\n",
        "dataframes_otimizados = [pd.DataFrame(matriz) for matriz in melhor_configuracao]\n",
        "\n",
        "# Criando um arquivo Excel para as matrizes iniciais\n",
        "excel_file_iniciais = 'matrizes_capacitancias_iniciais.xlsx'\n",
        "with pd.ExcelWriter(excel_file_iniciais, engine='openpyxl') as writer:\n",
        "    for i, df_inicial in enumerate(dataframes_iniciais):\n",
        "        df_inicial.to_excel(writer, sheet_name=f'Matriz_{i}', index=True)\n",
        "\n",
        "# Criando um arquivo Excel para as matrizes otimizadas\n",
        "excel_file_otimizadas = 'matrizes_capacitancias_otimizadas.xlsx'\n",
        "with pd.ExcelWriter(excel_file_otimizadas, engine='openpyxl') as writer:\n",
        "    for i, df_otimizado in enumerate(dataframes_otimizados):\n",
        "        df_otimizado.to_excel(writer, sheet_name=f'Matriz_{i}', index=True)\n",
        "\n",
        "\n",
        "files.download(excel_file_iniciais)\n",
        "files.download(excel_file_otimizadas)\n",
        "\n",
        "print(f\"Matrizes iniciais foram salvas em '{excel_file_iniciais}'.\")\n",
        "print(f\"Matrizes otimizadas foram salvas em '{excel_file_otimizadas}'.\")\n",
        "\n"
      ],
      "metadata": {
        "colab": {
          "base_uri": "https://localhost:8080/",
          "height": 54
        },
        "id": "LlRtVBucCdh3",
        "outputId": "65e9e491-14ab-4b03-d47b-5b9f7cbb858b"
      },
      "execution_count": 6,
      "outputs": [
        {
          "output_type": "display_data",
          "data": {
            "text/plain": [
              "<IPython.core.display.Javascript object>"
            ],
            "application/javascript": [
              "\n",
              "    async function download(id, filename, size) {\n",
              "      if (!google.colab.kernel.accessAllowed) {\n",
              "        return;\n",
              "      }\n",
              "      const div = document.createElement('div');\n",
              "      const label = document.createElement('label');\n",
              "      label.textContent = `Downloading \"${filename}\": `;\n",
              "      div.appendChild(label);\n",
              "      const progress = document.createElement('progress');\n",
              "      progress.max = size;\n",
              "      div.appendChild(progress);\n",
              "      document.body.appendChild(div);\n",
              "\n",
              "      const buffers = [];\n",
              "      let downloaded = 0;\n",
              "\n",
              "      const channel = await google.colab.kernel.comms.open(id);\n",
              "      // Send a message to notify the kernel that we're ready.\n",
              "      channel.send({})\n",
              "\n",
              "      for await (const message of channel.messages) {\n",
              "        // Send a message to notify the kernel that we're ready.\n",
              "        channel.send({})\n",
              "        if (message.buffers) {\n",
              "          for (const buffer of message.buffers) {\n",
              "            buffers.push(buffer);\n",
              "            downloaded += buffer.byteLength;\n",
              "            progress.value = downloaded;\n",
              "          }\n",
              "        }\n",
              "      }\n",
              "      const blob = new Blob(buffers, {type: 'application/binary'});\n",
              "      const a = document.createElement('a');\n",
              "      a.href = window.URL.createObjectURL(blob);\n",
              "      a.download = filename;\n",
              "      div.appendChild(a);\n",
              "      a.click();\n",
              "      div.remove();\n",
              "    }\n",
              "  "
            ]
          },
          "metadata": {}
        },
        {
          "output_type": "display_data",
          "data": {
            "text/plain": [
              "<IPython.core.display.Javascript object>"
            ],
            "application/javascript": [
              "download(\"download_0745d7d3-a697-4d75-ab69-adcbced92f42\", \"matrizes_capacitancias_iniciais.xlsx\", 8913)"
            ]
          },
          "metadata": {}
        },
        {
          "output_type": "display_data",
          "data": {
            "text/plain": [
              "<IPython.core.display.Javascript object>"
            ],
            "application/javascript": [
              "\n",
              "    async function download(id, filename, size) {\n",
              "      if (!google.colab.kernel.accessAllowed) {\n",
              "        return;\n",
              "      }\n",
              "      const div = document.createElement('div');\n",
              "      const label = document.createElement('label');\n",
              "      label.textContent = `Downloading \"${filename}\": `;\n",
              "      div.appendChild(label);\n",
              "      const progress = document.createElement('progress');\n",
              "      progress.max = size;\n",
              "      div.appendChild(progress);\n",
              "      document.body.appendChild(div);\n",
              "\n",
              "      const buffers = [];\n",
              "      let downloaded = 0;\n",
              "\n",
              "      const channel = await google.colab.kernel.comms.open(id);\n",
              "      // Send a message to notify the kernel that we're ready.\n",
              "      channel.send({})\n",
              "\n",
              "      for await (const message of channel.messages) {\n",
              "        // Send a message to notify the kernel that we're ready.\n",
              "        channel.send({})\n",
              "        if (message.buffers) {\n",
              "          for (const buffer of message.buffers) {\n",
              "            buffers.push(buffer);\n",
              "            downloaded += buffer.byteLength;\n",
              "            progress.value = downloaded;\n",
              "          }\n",
              "        }\n",
              "      }\n",
              "      const blob = new Blob(buffers, {type: 'application/binary'});\n",
              "      const a = document.createElement('a');\n",
              "      a.href = window.URL.createObjectURL(blob);\n",
              "      a.download = filename;\n",
              "      div.appendChild(a);\n",
              "      a.click();\n",
              "      div.remove();\n",
              "    }\n",
              "  "
            ]
          },
          "metadata": {}
        },
        {
          "output_type": "display_data",
          "data": {
            "text/plain": [
              "<IPython.core.display.Javascript object>"
            ],
            "application/javascript": [
              "download(\"download_938a55dd-86df-4007-885d-258ef4d425a6\", \"matrizes_capacitancias_otimizadas.xlsx\", 8911)"
            ]
          },
          "metadata": {}
        },
        {
          "output_type": "stream",
          "name": "stdout",
          "text": [
            "Matrizes iniciais foram salvas em 'matrizes_capacitancias_iniciais.xlsx'.\n",
            "Matrizes otimizadas foram salvas em 'matrizes_capacitancias_otimizadas.xlsx'.\n"
          ]
        }
      ]
    }
  ]
}